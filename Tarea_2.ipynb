{
  "nbformat": 4,
  "nbformat_minor": 0,
  "metadata": {
    "colab": {
      "name": "Tarea 2.ipynb",
      "provenance": [],
      "collapsed_sections": [
        "H8nPNijJ_MlS"
      ],
      "toc_visible": true,
      "include_colab_link": true
    },
    "kernelspec": {
      "name": "python3",
      "display_name": "Python 3"
    },
    "language_info": {
      "name": "python"
    }
  },
  "cells": [
    {
      "cell_type": "markdown",
      "metadata": {
        "id": "view-in-github",
        "colab_type": "text"
      },
      "source": [
        "<a href=\"https://colab.research.google.com/github/A00827038/ModelacionAgentes/blob/main/Tarea_2.ipynb\" target=\"_parent\"><img src=\"https://colab.research.google.com/assets/colab-badge.svg\" alt=\"Open In Colab\"/></a>"
      ]
    },
    {
      "cell_type": "markdown",
      "metadata": {
        "id": "zQ_QhkQe-hz9"
      },
      "source": [
        "#Tarea 2\n",
        "\n",
        "A00827038 - Fernando Doddoli\n",
        "\n",
        "A00827074 - Cristobal Escamilla"
      ]
    },
    {
      "cell_type": "code",
      "metadata": {
        "id": "amKNhq0JQxZN"
      },
      "source": [
        "# Numpy para cálculos con álgebra lineal\n",
        "import numpy as np\n",
        "\n",
        "# Para graficar resultados\n",
        "from mpl_toolkits.mplot3d import Axes3D\n",
        "import matplotlib.pyplot as plt"
      ],
      "execution_count": 22,
      "outputs": []
    },
    {
      "cell_type": "markdown",
      "metadata": {
        "id": "jK_qz_P4bQm7"
      },
      "source": [
        "#Pregunta 1\n",
        "\n",
        "Sean tres puntos A = [1, 4, -3], B = [-2, 2, 1] y C = [3, -1, 4]:\n",
        "\n",
        "Q se determina escalando el punto A en X, Y y Z por un factor de 1.372 y trasladándolo con las coordenadas de B.\n",
        "Rota el punto C, 37.2° con respecto al eje Y. Toma como punto pivote al punto Q."
      ]
    },
    {
      "cell_type": "code",
      "metadata": {
        "colab": {
          "base_uri": "https://localhost:8080/",
          "height": 282
        },
        "id": "pxTQrCqEbLDw",
        "outputId": "b59f6da1-40f3-4e0b-f536-0fed07cf816b"
      },
      "source": [
        "# Datos:\n",
        "A = [1, 4, -3]\n",
        "B = [-2, 2, 1]\n",
        "C = [3, -1, 4]\n",
        "\n",
        "#CALCULAR EL PUNTO Q\n",
        "#Escalar el punto A en su X,Y,Z por un factor de 1.372\n",
        "def scaleMatrix(vector):\n",
        "  return np.diag([*vector, 1])\n",
        "\n",
        "scaM = scaleMatrix([1.372, 1.372, 1.372])\n",
        "Q0 = np.matmul(scaM, [*A, 1])\n",
        "print('from {} to {}'.format([*A, 1], Q0))\n",
        "\n",
        "#Transladar punto Q con las cordenadas de B.\n",
        "def translationMatrix(vector):\n",
        "  matrix = np.identity(len(vector) + 1)\n",
        "  matrix[-1,:-1] = vector\n",
        "  return matrix.T\n",
        "\n",
        "Q = np.matmul(translationMatrix([-2, 2, 1]), Q0)\n",
        "print('from {} to {}'.format(Q0, Q))\n",
        "\n",
        "#ROTAR PUNTO C 37.2 GRADOR CON RESPECTO AL EJE Y. TOMAR COMO PUNTO PIVOTE AL PUNTO Q.\n",
        "def rotationMatrix(angle_degrees, axis='y', dim=3):\n",
        "  angle = np.deg2rad(angle_degrees)\n",
        "  ii = np.cos(angle)\n",
        "  ji = np.sin(angle)\n",
        "  matrix = np.identity(dim + 1)\n",
        "  if axis == 'z':\n",
        "    matrix[0, 0] = ii\n",
        "    matrix[1, 1] = ii\n",
        "    matrix[0, 1] = -ji\n",
        "    matrix[1, 0] = ji\n",
        "  elif axis == 'y':\n",
        "    matrix[0, 0] = ii\n",
        "    matrix[2, 2] = ii\n",
        "    matrix[0, 2] = -ji\n",
        "    matrix[2, 0] = ji\n",
        "  else:\n",
        "    matrix[1, 1] = ii\n",
        "    matrix[2, 2] = ii\n",
        "    matrix[1, 2] = -ji\n",
        "    matrix[2, 1] = ji\n",
        "  return matrix\n",
        "\n",
        "pivot = np.delete(Q,3)\n",
        "traM = translationMatrix(pivot)\n",
        "rotM = rotationMatrix(37.2, 'y')\n",
        "\n",
        "fig = plt.figure(figsize=(4,4))\n",
        "ax = fig.add_subplot(111, projection='3d')\n",
        "\n",
        "plt.ion()\n",
        "ax.scatter(0, 0, 0, c='k')\n",
        "ax.scatter(*Q0[:-1], c='m')\n",
        "ax.scatter(*C[:-1], c='r')\n",
        "\n",
        "Qaux = [*C, 1]\n",
        "for color in plt.cm.winter(np.linspace(0, 1, 30)):\n",
        "  # Translate from a point to the origin\n",
        "  Qaux = np.matmul(np.linalg.inv(traM), Qaux)\n",
        "\n",
        "  # # Rotate\n",
        "  Qaux = np.matmul(rotM, Qaux)\n",
        "\n",
        "  # # Translate from the origin to the point. Translación inversa. \n",
        "  Qaux = np.matmul(traM, Qaux)\n",
        "\n",
        "  ax.scatter(*Qaux[:-1], color=color) \n",
        "\n",
        "plt.show()\n",
        "\n",
        "\n"
      ],
      "execution_count": 57,
      "outputs": [
        {
          "output_type": "stream",
          "text": [
            "from [1, 4, -3, 1] to [ 1.372  5.488 -4.116  1.   ]\n",
            "from [ 1.372  5.488 -4.116  1.   ] to [-0.628  7.488 -3.116  1.   ]\n"
          ],
          "name": "stdout"
        },
        {
          "output_type": "display_data",
          "data": {
            "image/png": "[encoded data removed]",
            "text/plain": [
              "<Figure size 288x288 with 1 Axes>"
            ]
          },
          "metadata": {
            "tags": [],
            "needs_background": "light"
          }
        }
      ]
    },
    {
      "cell_type": "markdown",
      "metadata": {
        "id": "F5qx4DxiqmNh"
      },
      "source": [
        "# Pregunta2\n",
        "Considera una pirámide triangular regular. Su lado a = 𝜋 y su altura h = (23‾‾√)𝑎 La base de la pirámide está centrada en el punto D = (-2.345, -7.317, 1.328).\n",
        "\n",
        "Encuentra todos los vértices de la pirámide. Encuentra la nueva posición de cada vértice cuando la pirámide es rotada con respecto al eje Z por -23°. Usa como pivote el centroide de la pirámide (el centroide es el promedio de cada componente de cada vértice)."
      ]
    },
    {
      "cell_type": "code",
      "metadata": {
        "colab": {
          "base_uri": "https://localhost:8080/"
        },
        "id": "Zg6BVinygukp",
        "outputId": "f55c8f64-a38f-4f59-bfa6-c25034ecbc97"
      },
      "source": [
        "# Datos:\n",
        "a = np.pi #Lado\n",
        "h = np.sqrt(2/3) #Altura\n",
        "D = [-2.345, -7.317, 1.328] #Base centrada en este punto\n",
        "\n",
        "#VERTICES DE PIRAMIDE\n",
        "v0 = [0, 0, 0]\n",
        "v1 = [a, 0, 0]\n",
        "v2 = [0, 0, h]\n",
        "\n",
        "#CALCULAR NUEVAS POSICINES AL ROTAR VERTICES -23 GRADOS RESPECTO AL EJE Z. USAR CENTROIDE COMO PIVOTE. \n",
        "def rotationMatrix(angle_degrees, axis='z', dim=3):\n",
        "  angle = np.deg2rad(angle_degrees)\n",
        "  ii = np.cos(angle)\n",
        "  ji = np.sin(angle)\n",
        "  matrix = np.identity(dim + 1)\n",
        "  if axis == 'z':\n",
        "    matrix[0, 0] = ii\n",
        "    matrix[1, 1] = ii\n",
        "    matrix[0, 1] = -ji\n",
        "    matrix[1, 0] = ji\n",
        "  elif axis == 'y':\n",
        "    matrix[0, 0] = ii\n",
        "    matrix[2, 2] = ii\n",
        "    matrix[0, 2] = -ji\n",
        "    matrix[2, 0] = ji\n",
        "  else:\n",
        "    matrix[1, 1] = ii\n",
        "    matrix[2, 2] = ii\n",
        "    matrix[1, 2] = -ji\n",
        "    matrix[2, 1] = ji\n",
        "  return matrix\n",
        "\n",
        "# Nuevas Posiciones\n",
        "vertices = [v0,v1,v2]\n",
        "centroide = [\n",
        "             (v0[0]+v1[0]+v2[0])/3,\n",
        "             (v0[1]+v1[1]+v2[1])/3,\n",
        "             (v0[2]+v1[2]+v2[2])/3\n",
        "            ]\n",
        "for i in range(3):\n",
        "  Q0 = vertices[i]\n",
        "  pivot = centroide\n",
        "  traM = translationMatrix(pivot)\n",
        "  rotM = rotationMatrix(-23, 'z')\n",
        "  Qaux = [*Q0,1]\n",
        "  # Translate from a point to the origin\n",
        "  Qaux = np.matmul(np.linalg.inv(traM), Qaux)\n",
        "  # Rotate\n",
        "  Qaux = np.matmul(rotM, Qaux)\n",
        "  # Translate from the origin to the point. Translación inversa. \n",
        "  Qaux = np.matmul(traM, Qaux)\n",
        "  #Deshomonizamos Qaux\n",
        "  Qaux = np.delete(Qaux,3)\n",
        "  #Imprimimos resultado\n",
        "  print('from {} to {}'.format(Q0, Qaux))\n",
        "\n",
        "\n",
        "\n",
        "\n",
        "\n"
      ],
      "execution_count": 67,
      "outputs": [
        {
          "output_type": "stream",
          "text": [
            "from [0, 0, 0] to [0.08324712 0.40917268 0.        ]\n",
            "from [3.141592653589793, 0, 0] to [ 2.97509841 -0.81834536  0.        ]\n",
            "from [0, 0, 0.816496580927726] to [0.08324712 0.40917268 0.81649658]\n"
          ],
          "name": "stdout"
        }
      ]
    }
  ]
}