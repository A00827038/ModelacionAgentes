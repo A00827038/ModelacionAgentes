{
  "nbformat": 4,
  "nbformat_minor": 0,
  "metadata": {
    "kernelspec": {
      "display_name": "Python 3",
      "language": "python",
      "name": "python3"
    },
    "language_info": {
      "codemirror_mode": {
        "name": "ipython",
        "version": 3
      },
      "file_extension": ".py",
      "mimetype": "text/x-python",
      "name": "python",
      "nbconvert_exporter": "python",
      "pygments_lexer": "ipython3",
      "version": "3.8.10"
    },
    "colab": {
      "name": "Reto.ipynb",
      "provenance": [],
      "collapsed_sections": [],
      "include_colab_link": true
    }
  },
  "cells": [
    {
      "cell_type": "markdown",
      "metadata": {
        "id": "view-in-github",
        "colab_type": "text"
      },
      "source": [
        "<a href=\"https://colab.research.google.com/github/A00827038/ModelacionAgentes/blob/main/Reto.ipynb\" target=\"_parent\"><img src=\"https://colab.research.google.com/assets/colab-badge.svg\" alt=\"Open In Colab\"/></a>"
      ]
    },
    {
      "cell_type": "markdown",
      "metadata": {
        "id": "KJUuPt3nKfSJ"
      },
      "source": [
        "# Reto\n",
        "\n",
        "En este modelo, diseñaremos un sistema multiagente necesario para simular una intersección controlada por señales de semáforos inteligentes.\n",
        "\n"
      ]
    },
    {
      "cell_type": "markdown",
      "metadata": {
        "id": "IQJn7ehOKfSM"
      },
      "source": [
        "## Reglas\n",
        "\n",
        "Dado\n",
        "1. Grid de 10x10 espacios.\n",
        "2. 2 Semáforos\n",
        "3. Se generan los carros en alguna de las posiciones A o B cada 4 frames. Tiene una variable de dirección cual valor es escogido de las opciones de la variable de dirección del carril. \n",
        "4. Agente carril, con estado 0, 1 y 2, representando si es jardín, calle, o intersección. Y una variable de dirección en los carrils con estado 1.\n",
        "5. Agente carril con estado 2 está en 1 celda, representando la intersección. \n",
        "\n",
        "\n",
        "Realizar lo Siguiente\n",
        "1. Mientras no haya un vehículo cercano, el semáforo estará en luz amarilla. \n",
        "2. Cuando un vehículo se acerque a la intersección, enviará un mensaje con el tiempo estimado de arribo (tiempo estimado de donde está hasta cruzar la intersección. \n",
        "3. El semáforo dará luz verde al semáforo más cercano (semáforo sincronizado) y establecerá un programa de luces a partir de ese punto para el resto de los vehículos. "
      ]
    },
    {
      "cell_type": "markdown",
      "metadata": {
        "id": "43Q0cxDpKfSM"
      },
      "source": [
        "## Imports\n",
        "\n",
        "Antes de empezar a crear el modelo del juego de la vida con multiagentes es necesario tener instalado los siguientes paquetes:\n",
        "- `python`: asegúrense de usar la versión 3+.\n",
        "- `mesa`: el framework de Python para el modelado de agentes.\n",
        "- `numpy`: es una biblioteca de Python para el manejo de matrices, arreglos, manipulación matemática, lógica y mucho más.\n",
        "- `matplotlib`: es una biblioteca para crear visualizaciones estáticas, animadas e interactivas en Python.\n",
        "\n",
        "Para poder modelar el juego de la vida usando el framework de `mesa` es necesario importar dos clases: una para el modelo general, y otro para los agentes. "
      ]
    },
    {
      "cell_type": "code",
      "metadata": {
        "colab": {
          "base_uri": "https://localhost:8080/"
        },
        "id": "c9dWhz8xKkx2",
        "outputId": "352b24e4-81ad-4769-c870-26c532c1763c"
      },
      "source": [
        "!pip3 install mesa"
      ],
      "execution_count": null,
      "outputs": [
        {
          "output_type": "stream",
          "name": "stdout",
          "text": [
            "Collecting mesa\n",
            "  Downloading Mesa-0.8.9-py3-none-any.whl (668 kB)\n",
            "\u001b[?25l\r\u001b[K     |▌                               | 10 kB 17.6 MB/s eta 0:00:01\r\u001b[K     |█                               | 20 kB 10.8 MB/s eta 0:00:01\r\u001b[K     |█▌                              | 30 kB 8.5 MB/s eta 0:00:01\r\u001b[K     |██                              | 40 kB 6.6 MB/s eta 0:00:01\r\u001b[K     |██▌                             | 51 kB 5.3 MB/s eta 0:00:01\r\u001b[K     |███                             | 61 kB 5.3 MB/s eta 0:00:01\r\u001b[K     |███▍                            | 71 kB 5.6 MB/s eta 0:00:01\r\u001b[K     |████                            | 81 kB 6.2 MB/s eta 0:00:01\r\u001b[K     |████▍                           | 92 kB 5.6 MB/s eta 0:00:01\r\u001b[K     |█████                           | 102 kB 5.1 MB/s eta 0:00:01\r\u001b[K     |█████▍                          | 112 kB 5.1 MB/s eta 0:00:01\r\u001b[K     |█████▉                          | 122 kB 5.1 MB/s eta 0:00:01\r\u001b[K     |██████▍                         | 133 kB 5.1 MB/s eta 0:00:01\r\u001b[K     |██████▉                         | 143 kB 5.1 MB/s eta 0:00:01\r\u001b[K     |███████▍                        | 153 kB 5.1 MB/s eta 0:00:01\r\u001b[K     |███████▉                        | 163 kB 5.1 MB/s eta 0:00:01\r\u001b[K     |████████▎                       | 174 kB 5.1 MB/s eta 0:00:01\r\u001b[K     |████████▉                       | 184 kB 5.1 MB/s eta 0:00:01\r\u001b[K     |█████████▎                      | 194 kB 5.1 MB/s eta 0:00:01\r\u001b[K     |█████████▉                      | 204 kB 5.1 MB/s eta 0:00:01\r\u001b[K     |██████████▎                     | 215 kB 5.1 MB/s eta 0:00:01\r\u001b[K     |██████████▊                     | 225 kB 5.1 MB/s eta 0:00:01\r\u001b[K     |███████████▎                    | 235 kB 5.1 MB/s eta 0:00:01\r\u001b[K     |███████████▊                    | 245 kB 5.1 MB/s eta 0:00:01\r\u001b[K     |████████████▎                   | 256 kB 5.1 MB/s eta 0:00:01\r\u001b[K     |████████████▊                   | 266 kB 5.1 MB/s eta 0:00:01\r\u001b[K     |█████████████▎                  | 276 kB 5.1 MB/s eta 0:00:01\r\u001b[K     |█████████████▊                  | 286 kB 5.1 MB/s eta 0:00:01\r\u001b[K     |██████████████▏                 | 296 kB 5.1 MB/s eta 0:00:01\r\u001b[K     |██████████████▊                 | 307 kB 5.1 MB/s eta 0:00:01\r\u001b[K     |███████████████▏                | 317 kB 5.1 MB/s eta 0:00:01\r\u001b[K     |███████████████▊                | 327 kB 5.1 MB/s eta 0:00:01\r\u001b[K     |████████████████▏               | 337 kB 5.1 MB/s eta 0:00:01\r\u001b[K     |████████████████▋               | 348 kB 5.1 MB/s eta 0:00:01\r\u001b[K     |█████████████████▏              | 358 kB 5.1 MB/s eta 0:00:01\r\u001b[K     |█████████████████▋              | 368 kB 5.1 MB/s eta 0:00:01\r\u001b[K     |██████████████████▏             | 378 kB 5.1 MB/s eta 0:00:01\r\u001b[K     |██████████████████▋             | 389 kB 5.1 MB/s eta 0:00:01\r\u001b[K     |███████████████████             | 399 kB 5.1 MB/s eta 0:00:01\r\u001b[K     |███████████████████▋            | 409 kB 5.1 MB/s eta 0:00:01\r\u001b[K     |████████████████████            | 419 kB 5.1 MB/s eta 0:00:01\r\u001b[K     |████████████████████▋           | 430 kB 5.1 MB/s eta 0:00:01\r\u001b[K     |█████████████████████           | 440 kB 5.1 MB/s eta 0:00:01\r\u001b[K     |█████████████████████▌          | 450 kB 5.1 MB/s eta 0:00:01\r\u001b[K     |██████████████████████          | 460 kB 5.1 MB/s eta 0:00:01\r\u001b[K     |██████████████████████▌         | 471 kB 5.1 MB/s eta 0:00:01\r\u001b[K     |███████████████████████         | 481 kB 5.1 MB/s eta 0:00:01\r\u001b[K     |███████████████████████▌        | 491 kB 5.1 MB/s eta 0:00:01\r\u001b[K     |████████████████████████        | 501 kB 5.1 MB/s eta 0:00:01\r\u001b[K     |████████████████████████▌       | 512 kB 5.1 MB/s eta 0:00:01\r\u001b[K     |█████████████████████████       | 522 kB 5.1 MB/s eta 0:00:01\r\u001b[K     |█████████████████████████▌      | 532 kB 5.1 MB/s eta 0:00:01\r\u001b[K     |██████████████████████████      | 542 kB 5.1 MB/s eta 0:00:01\r\u001b[K     |██████████████████████████▌     | 552 kB 5.1 MB/s eta 0:00:01\r\u001b[K     |███████████████████████████     | 563 kB 5.1 MB/s eta 0:00:01\r\u001b[K     |███████████████████████████▍    | 573 kB 5.1 MB/s eta 0:00:01\r\u001b[K     |████████████████████████████    | 583 kB 5.1 MB/s eta 0:00:01\r\u001b[K     |████████████████████████████▍   | 593 kB 5.1 MB/s eta 0:00:01\r\u001b[K     |█████████████████████████████   | 604 kB 5.1 MB/s eta 0:00:01\r\u001b[K     |█████████████████████████████▍  | 614 kB 5.1 MB/s eta 0:00:01\r\u001b[K     |█████████████████████████████▉  | 624 kB 5.1 MB/s eta 0:00:01\r\u001b[K     |██████████████████████████████▍ | 634 kB 5.1 MB/s eta 0:00:01\r\u001b[K     |██████████████████████████████▉ | 645 kB 5.1 MB/s eta 0:00:01\r\u001b[K     |███████████████████████████████▍| 655 kB 5.1 MB/s eta 0:00:01\r\u001b[K     |███████████████████████████████▉| 665 kB 5.1 MB/s eta 0:00:01\r\u001b[K     |████████████████████████████████| 668 kB 5.1 MB/s \n",
            "\u001b[?25hRequirement already satisfied: tqdm in /usr/local/lib/python3.7/dist-packages (from mesa) (4.62.0)\n",
            "Requirement already satisfied: networkx in /usr/local/lib/python3.7/dist-packages (from mesa) (2.6.2)\n",
            "Requirement already satisfied: pandas in /usr/local/lib/python3.7/dist-packages (from mesa) (1.1.5)\n",
            "Requirement already satisfied: tornado in /usr/local/lib/python3.7/dist-packages (from mesa) (5.1.1)\n",
            "Collecting cookiecutter\n",
            "  Downloading cookiecutter-1.7.3-py2.py3-none-any.whl (34 kB)\n",
            "Requirement already satisfied: numpy in /usr/local/lib/python3.7/dist-packages (from mesa) (1.19.5)\n",
            "Requirement already satisfied: click in /usr/local/lib/python3.7/dist-packages (from mesa) (7.1.2)\n",
            "Requirement already satisfied: python-slugify>=4.0.0 in /usr/local/lib/python3.7/dist-packages (from cookiecutter->mesa) (5.0.2)\n",
            "Collecting poyo>=0.5.0\n",
            "  Downloading poyo-0.5.0-py2.py3-none-any.whl (10 kB)\n",
            "Collecting binaryornot>=0.4.4\n",
            "  Downloading binaryornot-0.4.4-py2.py3-none-any.whl (9.0 kB)\n",
            "Requirement already satisfied: Jinja2<4.0.0,>=2.7 in /usr/local/lib/python3.7/dist-packages (from cookiecutter->mesa) (2.11.3)\n",
            "Collecting jinja2-time>=0.2.0\n",
            "  Downloading jinja2_time-0.2.0-py2.py3-none-any.whl (6.4 kB)\n",
            "Requirement already satisfied: six>=1.10 in /usr/local/lib/python3.7/dist-packages (from cookiecutter->mesa) (1.15.0)\n",
            "Requirement already satisfied: requests>=2.23.0 in /usr/local/lib/python3.7/dist-packages (from cookiecutter->mesa) (2.23.0)\n",
            "Requirement already satisfied: chardet>=3.0.2 in /usr/local/lib/python3.7/dist-packages (from binaryornot>=0.4.4->cookiecutter->mesa) (3.0.4)\n",
            "Requirement already satisfied: MarkupSafe>=0.23 in /usr/local/lib/python3.7/dist-packages (from Jinja2<4.0.0,>=2.7->cookiecutter->mesa) (2.0.1)\n",
            "Collecting arrow\n",
            "  Downloading arrow-1.1.1-py3-none-any.whl (60 kB)\n",
            "\u001b[K     |████████████████████████████████| 60 kB 3.4 MB/s \n",
            "\u001b[?25hRequirement already satisfied: text-unidecode>=1.3 in /usr/local/lib/python3.7/dist-packages (from python-slugify>=4.0.0->cookiecutter->mesa) (1.3)\n",
            "Requirement already satisfied: idna<3,>=2.5 in /usr/local/lib/python3.7/dist-packages (from requests>=2.23.0->cookiecutter->mesa) (2.10)\n",
            "Requirement already satisfied: urllib3!=1.25.0,!=1.25.1,<1.26,>=1.21.1 in /usr/local/lib/python3.7/dist-packages (from requests>=2.23.0->cookiecutter->mesa) (1.24.3)\n",
            "Requirement already satisfied: certifi>=2017.4.17 in /usr/local/lib/python3.7/dist-packages (from requests>=2.23.0->cookiecutter->mesa) (2021.5.30)\n",
            "Requirement already satisfied: typing-extensions in /usr/local/lib/python3.7/dist-packages (from arrow->jinja2-time>=0.2.0->cookiecutter->mesa) (3.7.4.3)\n",
            "Requirement already satisfied: python-dateutil>=2.7.0 in /usr/local/lib/python3.7/dist-packages (from arrow->jinja2-time>=0.2.0->cookiecutter->mesa) (2.8.2)\n",
            "Requirement already satisfied: pytz>=2017.2 in /usr/local/lib/python3.7/dist-packages (from pandas->mesa) (2018.9)\n",
            "Installing collected packages: arrow, poyo, jinja2-time, binaryornot, cookiecutter, mesa\n",
            "Successfully installed arrow-1.1.1 binaryornot-0.4.4 cookiecutter-1.7.3 jinja2-time-0.2.0 mesa-0.8.9 poyo-0.5.0\n"
          ]
        }
      ]
    },
    {
      "cell_type": "code",
      "metadata": {
        "id": "VCKv0ClSKfSN"
      },
      "source": [
        "# La clase `Model` se hace cargo de los atributos a nivel del modelo, maneja los agentes. \n",
        "# Cada modelo puede contener múltiples agentes y todos ellos son instancias de la clase `Agent`.\n",
        "from mesa import Agent, Model \n",
        "\n",
        "# Debido a que necesitamos un solo agente por celda elegimos `SingleGrid` que fuerza un solo objeto por celda.\n",
        "from mesa.space import MultiGrid\n",
        "\n",
        "# Con `SimultaneousActivation` hacemos que todos los agentes se activen de manera simultanea.\n",
        "from mesa.time import SimultaneousActivation\n",
        "\n",
        "# Vamos a hacer uso de `DataCollector` para obtener el grid completo cada paso (o generación) y lo usaremos para graficarlo.\n",
        "from mesa.datacollection import DataCollector\n",
        "\n",
        "# mathplotlib lo usamos para graficar/visualizar como evoluciona el autómata celular.\n",
        "%matplotlib inline\n",
        "import matplotlib\n",
        "import matplotlib.pyplot as plt\n",
        "import matplotlib.animation as animation\n",
        "plt.rcParams[\"animation.html\"] = \"jshtml\"\n",
        "matplotlib.rcParams['animation.embed_limit'] = 2**128\n",
        "\n",
        "# Definimos los siguientes paquetes para manejar valores númericos.\n",
        "import numpy as np\n",
        "import pandas as pd\n",
        "\n",
        "# Definimos otros paquetes que vamos a usar para medir el tiempo de ejecución de nuestro algoritmo.\n",
        "import time\n",
        "import datetime"
      ],
      "execution_count": null,
      "outputs": []
    },
    {
      "cell_type": "markdown",
      "metadata": {
        "id": "jpgt9VVLKfSO"
      },
      "source": [
        "## Crear el modelo\n",
        "\n",
        "Antes que nada el presente modelo se encuentra basado en el [tutorial introductorio](https://mesa.readthedocs.io/en/master/tutorials/intro_tutorial.html). Lo modifiqué un poco para que funcionara para el presente problema pero en esencia es lo mismo."
      ]
    },
    {
      "cell_type": "code",
      "metadata": {
        "id": "OV98dyAhKfSO"
      },
      "source": [
        "def get_grid(model):\n",
        "    '''\n",
        "    Esta es una función auxiliar que nos permite guardar el grid para cada uno de los agentes.\n",
        "    param model: El modelo del cual optener el grid. \n",
        "    '''\n",
        "    grid = np.zeros((model.grid.width, model.grid.height))\n",
        "    for cell in model.grid.coord_iter():\n",
        "        cell_content, x, y = cell\n",
        "        for content in cell_content:\n",
        "          if isinstance(content, carrilAgent):\n",
        "            grid[x][y] = content.estado\n",
        "          elif isinstance(content, semaforoAgent):\n",
        "            grid[x][y] = 3\n",
        "          else:\n",
        "            4\n",
        "\n",
        "    return grid\n",
        "\n",
        "\n",
        "class cocheAgent(Agent):\n",
        "    '''\n",
        "    Un coche que se mueve con una dirección predeterminada.\n",
        "    '''\n",
        "    def __init__(self, unique_id, model, direccion):\n",
        "        super().__init__(unique_id, model)\n",
        "        \n",
        "        \n",
        "\n",
        "    def step(self):\n",
        "       pass\n",
        "     \n",
        "          \n",
        "\n",
        "    def advance(self):\n",
        "       pass\n",
        "       \n",
        "      \n",
        "class semaforoAgent(Agent):\n",
        "    '''\n",
        "    Representa a un semáforo.\n",
        "    '''\n",
        "    def __init__(self, unique_id, model, estado):\n",
        "        super().__init__(unique_id, model)\n",
        "        self.estado = estado\n",
        "\n",
        "    def step(self):\n",
        "       pass\n",
        "     \n",
        "    def advance(self):\n",
        "       pass\n",
        "\n",
        "class carrilAgent(Agent):\n",
        "    '''\n",
        "    Representa a una celda de tipo carril.\n",
        "    '''\n",
        "    def __init__(self, unique_id, model, estado, direccion):\n",
        "        super().__init__(unique_id, model)\n",
        "        self.estado = estado\n",
        "        self.direccion = direccion\n",
        "        \n",
        "    def step(self):\n",
        "      pass\n",
        "     \n",
        "    def advance(self):\n",
        "      pass\n",
        "       \n",
        "      \n",
        "\n",
        "            \n",
        "class IntersectionModel(Model):\n",
        "    '''\n",
        "    Define el modelo de la intersección .\n",
        "    '''\n",
        "    def __init__(self, width, height):\n",
        "        self.num_semaforos = 2\n",
        "        self.contador = 4\n",
        "        self.grid = MultiGrid(width, height, True)\n",
        "        self.schedule = SimultaneousActivation(self)\n",
        "       \n",
        "\n",
        "        #Creamos el piso o carriles\n",
        "        carrilesCont = 1;\n",
        "        for (content, x, y) in self.grid.coord_iter(): \n",
        "          #Si estamos en posición de intersección\n",
        "          if (x,y) == (6,5) or (x,y) == (5,5):\n",
        "            direccion = None;\n",
        "            carril = carrilAgent(carrilesCont, self, 2, direccion)\n",
        "          #Else si estamos en posición de carril\n",
        "          elif (x == 4 and y < 4 ) or y == 5:\n",
        "            direccion = [(1,0),(0,1)];\n",
        "            #print(carrilesCont)\n",
        "            carril = carrilAgent(carrilesCont, self, 1, direccion)\n",
        "          elif (x,y) == (5,4):\n",
        "            direccion = [(1,0),(0,1)];\n",
        "            carril = carrilAgent(carrilesCont, self, 1, direccion)\n",
        "          #Else\n",
        "          else:\n",
        "            direccion = None;\n",
        "            carril = carrilAgent(carrilesCont, self, 0, direccion)\n",
        "          self.grid.place_agent(carril, (x,y))\n",
        "          self.schedule.add(carril)\n",
        "          carrilesCont += 1\n",
        "        \n",
        "       \n",
        "        #Creamos los semáforos \n",
        "        semaforosCont = 1;\n",
        "        for (content, x, y) in self.grid.coord_iter(): \n",
        "          #Si estamos en posición del semáforo\n",
        "          if (x,y) == (4,4) or (x,y) == (6,4):\n",
        "            semaforo = semaforoAgent(carrilesCont+semaforosCont, self, 0)\n",
        "            self.grid.place_agent(semaforo, (x,y))\n",
        "            self.schedule.add(semaforo)\n",
        "          semaforosCont += 1\n",
        "         \n",
        "        \n",
        "        # Aquí definimos con colector para obtener el grid completo. Aquí recompilamos la información.\n",
        "        self.datacollector = DataCollector(\n",
        "            model_reporters={\"Grid\": get_grid})\n",
        "        \n",
        "        self.cont = semaforosCont + carrilesCont;\n",
        "\n",
        "    #Función que crea los carros cada 4 frames en las posiciones A, B, C o D\n",
        "    def carros(model):\n",
        "      lista_posiciones = [(5,0),(0,4)]\n",
        "      posicion = model.random.choice(lista_posiciones)\n",
        "      lista_direcciones_inter = [(1, 0)]\n",
        "      direccion = lista_direcciones_inter\n",
        "      coche = cocheAgent(model.cont, model, direccion)\n",
        "      model.grid.place_agent(coche, posicion)\n",
        "      model.schedule.add(coche)\n",
        "      model.cont += 1\n",
        "\n",
        "     \n",
        "      \n",
        "        \n",
        "\n",
        "    def step(self):\n",
        "        '''\n",
        "        En cada paso el colector tomará la información que se definió y almacenará el grid para luego graficarlo.\n",
        "        '''\n",
        "        if self.contador == 4:\n",
        "            self.carros()\n",
        "        \n",
        "        self.contador -= 1\n",
        "\n",
        "        if self.contador == 0:\n",
        "          self.contador = 4\n",
        "        \n",
        "        self.datacollector.collect(self)\n",
        "        self.schedule.step()\n",
        "        "
      ],
      "execution_count": null,
      "outputs": []
    },
    {
      "cell_type": "markdown",
      "metadata": {
        "id": "p8hcfMP6KfSP"
      },
      "source": [
        "A continuación corremos el modelo"
      ]
    },
    {
      "cell_type": "code",
      "metadata": {
        "scrolled": true,
        "colab": {
          "base_uri": "https://localhost:8080/"
        },
        "id": "fj5LDvEpKfSQ",
        "outputId": "bf9ce96d-1f1b-4154-d318-a6a01bfaf982"
      },
      "source": [
        "# Definimos el tamaño del Grid\n",
        "WIDTH = 10\n",
        "HEIGHT = 10\n",
        "\n",
        "# Definimos el tiempo máximo en segundos\n",
        "TIEMPO_MAX = float(input('Tiempo máximo de ejecución (segundos): '))\n",
        "\n",
        "# Registramos el tiempo de inicio y corremos el modelo\n",
        "start_time = time.time()\n",
        "model = IntersectionModel(WIDTH, HEIGHT)\n",
        "\n",
        "#Corre si el tiempo transcurrido es menor al tiempo max, todavía no están los stacks llenos, y hay cajas solas.\n",
        "while((time.time() - start_time) < TIEMPO_MAX):\n",
        "    model.step()\n",
        "\n",
        "# Tiempo necesario hasta que todas las cajas estén en pilas de 5 (o se haya llegado al tiempo máximo)\n",
        "print('Tiempo:', str(datetime.timedelta(seconds=(time.time() - start_time))))\n"
      ],
      "execution_count": null,
      "outputs": [
        {
          "output_type": "stream",
          "name": "stdout",
          "text": [
            "Tiempo máximo de ejecución (segundos): 1\n",
            "Tiempo: 0:00:01.000251\n"
          ]
        }
      ]
    },
    {
      "cell_type": "markdown",
      "metadata": {
        "id": "7nS66alkKfSR"
      },
      "source": [
        "Obtenemos la información que almacenó el colector, este nos entregará un DataFrame de pandas que contiene toda la información."
      ]
    },
    {
      "cell_type": "code",
      "metadata": {
        "id": "UfEr4w3zKfSS",
        "colab": {
          "base_uri": "https://localhost:8080/"
        },
        "outputId": "6360e69c-2f7f-4413-be7d-e86e197dd3aa"
      },
      "source": [
        "all_grid = model.datacollector.get_model_vars_dataframe()\n",
        "print(all_grid.iloc[0][0])"
      ],
      "execution_count": null,
      "outputs": [
        {
          "output_type": "stream",
          "name": "stdout",
          "text": [
            "[[0. 0. 0. 0. 0. 1. 0. 0. 0. 0.]\n",
            " [0. 0. 0. 0. 0. 1. 0. 0. 0. 0.]\n",
            " [0. 0. 0. 0. 0. 1. 0. 0. 0. 0.]\n",
            " [0. 0. 0. 0. 0. 1. 0. 0. 0. 0.]\n",
            " [1. 1. 1. 1. 0. 1. 3. 0. 0. 0.]\n",
            " [0. 0. 0. 0. 1. 2. 0. 0. 0. 0.]\n",
            " [0. 0. 0. 0. 3. 2. 0. 0. 0. 0.]\n",
            " [0. 0. 0. 0. 0. 1. 0. 0. 0. 0.]\n",
            " [0. 0. 0. 0. 0. 1. 0. 0. 0. 0.]\n",
            " [0. 0. 0. 0. 0. 1. 0. 0. 0. 0.]]\n"
          ]
        }
      ]
    },
    {
      "cell_type": "markdown",
      "metadata": {
        "id": "idocz_-5KfSS"
      },
      "source": [
        "Graficamos la información usando `matplotlib`"
      ]
    },
    {
      "cell_type": "code",
      "metadata": {
        "id": "Kua3-9jGKfSS"
      },
      "source": [
        "%%capture\n",
        "\n",
        "fig, axs = plt.subplots(figsize=(7,7))\n",
        "axs.set_xticks([])\n",
        "axs.set_yticks([])\n",
        "patch = plt.imshow(all_grid.iloc[0][0], cmap=\"Reds\")\n",
        "\n",
        "def animate(i):\n",
        "    patch.set_data(all_grid.iloc[i][0])\n",
        "    \n",
        "anim = animation.FuncAnimation(fig, animate, frames=len(all_grid))"
      ],
      "execution_count": null,
      "outputs": []
    },
    {
      "cell_type": "code",
      "metadata": {
        "colab": {
          "base_uri": "https://localhost:8080/",
          "height": 358
        },
        "id": "-BFpj0LVKfSS",
        "outputId": "d248bccb-357a-4dcd-8647-7704bd10b8d7"
      },
      "source": [
        "anim"
      ],
      "execution_count": null,
      "outputs": [
        {
          "output_type": "error",
          "ename": "KeyboardInterrupt",
          "evalue": "ignored",
          "traceback": [
            "\u001b[0;31m---------------------------------------------------------------------------\u001b[0m",
            "\u001b[0;31mKeyboardInterrupt\u001b[0m                         Traceback (most recent call last)",
            "\u001b[0;32m<ipython-input-64-027b5d0310db>\u001b[0m in \u001b[0;36m<module>\u001b[0;34m()\u001b[0m\n\u001b[0;32m----> 1\u001b[0;31m \u001b[0manim\u001b[0m\u001b[0;34m\u001b[0m\u001b[0;34m\u001b[0m\u001b[0m\n\u001b[0m",
            "\u001b[0;32m/usr/local/lib/python3.7/dist-packages/IPython/core/displayhook.py\u001b[0m in \u001b[0;36m__call__\u001b[0;34m(self, result)\u001b[0m\n\u001b[1;32m    244\u001b[0m             \u001b[0mself\u001b[0m\u001b[0;34m.\u001b[0m\u001b[0mstart_displayhook\u001b[0m\u001b[0;34m(\u001b[0m\u001b[0;34m)\u001b[0m\u001b[0;34m\u001b[0m\u001b[0;34m\u001b[0m\u001b[0m\n\u001b[1;32m    245\u001b[0m             \u001b[0mself\u001b[0m\u001b[0;34m.\u001b[0m\u001b[0mwrite_output_prompt\u001b[0m\u001b[0;34m(\u001b[0m\u001b[0;34m)\u001b[0m\u001b[0;34m\u001b[0m\u001b[0;34m\u001b[0m\u001b[0m\n\u001b[0;32m--> 246\u001b[0;31m             \u001b[0mformat_dict\u001b[0m\u001b[0;34m,\u001b[0m \u001b[0mmd_dict\u001b[0m \u001b[0;34m=\u001b[0m \u001b[0mself\u001b[0m\u001b[0;34m.\u001b[0m\u001b[0mcompute_format_data\u001b[0m\u001b[0;34m(\u001b[0m\u001b[0mresult\u001b[0m\u001b[0;34m)\u001b[0m\u001b[0;34m\u001b[0m\u001b[0;34m\u001b[0m\u001b[0m\n\u001b[0m\u001b[1;32m    247\u001b[0m             \u001b[0mself\u001b[0m\u001b[0;34m.\u001b[0m\u001b[0mupdate_user_ns\u001b[0m\u001b[0;34m(\u001b[0m\u001b[0mresult\u001b[0m\u001b[0;34m)\u001b[0m\u001b[0;34m\u001b[0m\u001b[0;34m\u001b[0m\u001b[0m\n\u001b[1;32m    248\u001b[0m             \u001b[0mself\u001b[0m\u001b[0;34m.\u001b[0m\u001b[0mfill_exec_result\u001b[0m\u001b[0;34m(\u001b[0m\u001b[0mresult\u001b[0m\u001b[0;34m)\u001b[0m\u001b[0;34m\u001b[0m\u001b[0;34m\u001b[0m\u001b[0m\n",
            "\u001b[0;32m/usr/local/lib/python3.7/dist-packages/IPython/core/displayhook.py\u001b[0m in \u001b[0;36mcompute_format_data\u001b[0;34m(self, result)\u001b[0m\n\u001b[1;32m    148\u001b[0m \u001b[0;34m\u001b[0m\u001b[0m\n\u001b[1;32m    149\u001b[0m         \"\"\"\n\u001b[0;32m--> 150\u001b[0;31m         \u001b[0;32mreturn\u001b[0m \u001b[0mself\u001b[0m\u001b[0;34m.\u001b[0m\u001b[0mshell\u001b[0m\u001b[0;34m.\u001b[0m\u001b[0mdisplay_formatter\u001b[0m\u001b[0;34m.\u001b[0m\u001b[0mformat\u001b[0m\u001b[0;34m(\u001b[0m\u001b[0mresult\u001b[0m\u001b[0;34m)\u001b[0m\u001b[0;34m\u001b[0m\u001b[0;34m\u001b[0m\u001b[0m\n\u001b[0m\u001b[1;32m    151\u001b[0m \u001b[0;34m\u001b[0m\u001b[0m\n\u001b[1;32m    152\u001b[0m     \u001b[0;31m# This can be set to True by the write_output_prompt method in a subclass\u001b[0m\u001b[0;34m\u001b[0m\u001b[0;34m\u001b[0m\u001b[0;34m\u001b[0m\u001b[0m\n",
            "\u001b[0;32m/usr/local/lib/python3.7/dist-packages/IPython/core/formatters.py\u001b[0m in \u001b[0;36mformat\u001b[0;34m(self, obj, include, exclude)\u001b[0m\n\u001b[1;32m    171\u001b[0m             \u001b[0mmd\u001b[0m \u001b[0;34m=\u001b[0m \u001b[0;32mNone\u001b[0m\u001b[0;34m\u001b[0m\u001b[0;34m\u001b[0m\u001b[0m\n\u001b[1;32m    172\u001b[0m             \u001b[0;32mtry\u001b[0m\u001b[0;34m:\u001b[0m\u001b[0;34m\u001b[0m\u001b[0;34m\u001b[0m\u001b[0m\n\u001b[0;32m--> 173\u001b[0;31m                 \u001b[0mdata\u001b[0m \u001b[0;34m=\u001b[0m \u001b[0mformatter\u001b[0m\u001b[0;34m(\u001b[0m\u001b[0mobj\u001b[0m\u001b[0;34m)\u001b[0m\u001b[0;34m\u001b[0m\u001b[0;34m\u001b[0m\u001b[0m\n\u001b[0m\u001b[1;32m    174\u001b[0m             \u001b[0;32mexcept\u001b[0m\u001b[0;34m:\u001b[0m\u001b[0;34m\u001b[0m\u001b[0;34m\u001b[0m\u001b[0m\n\u001b[1;32m    175\u001b[0m                 \u001b[0;31m# FIXME: log the exception\u001b[0m\u001b[0;34m\u001b[0m\u001b[0;34m\u001b[0m\u001b[0;34m\u001b[0m\u001b[0m\n",
            "\u001b[0;32m<decorator-gen-2>\u001b[0m in \u001b[0;36m__call__\u001b[0;34m(self, obj)\u001b[0m\n",
            "\u001b[0;32m/usr/local/lib/python3.7/dist-packages/IPython/core/formatters.py\u001b[0m in \u001b[0;36mcatch_format_error\u001b[0;34m(method, self, *args, **kwargs)\u001b[0m\n\u001b[1;32m    215\u001b[0m     \u001b[0;34m\"\"\"show traceback on failed format call\"\"\"\u001b[0m\u001b[0;34m\u001b[0m\u001b[0;34m\u001b[0m\u001b[0m\n\u001b[1;32m    216\u001b[0m     \u001b[0;32mtry\u001b[0m\u001b[0;34m:\u001b[0m\u001b[0;34m\u001b[0m\u001b[0;34m\u001b[0m\u001b[0m\n\u001b[0;32m--> 217\u001b[0;31m         \u001b[0mr\u001b[0m \u001b[0;34m=\u001b[0m \u001b[0mmethod\u001b[0m\u001b[0;34m(\u001b[0m\u001b[0mself\u001b[0m\u001b[0;34m,\u001b[0m \u001b[0;34m*\u001b[0m\u001b[0margs\u001b[0m\u001b[0;34m,\u001b[0m \u001b[0;34m**\u001b[0m\u001b[0mkwargs\u001b[0m\u001b[0;34m)\u001b[0m\u001b[0;34m\u001b[0m\u001b[0;34m\u001b[0m\u001b[0m\n\u001b[0m\u001b[1;32m    218\u001b[0m     \u001b[0;32mexcept\u001b[0m \u001b[0mNotImplementedError\u001b[0m\u001b[0;34m:\u001b[0m\u001b[0;34m\u001b[0m\u001b[0;34m\u001b[0m\u001b[0m\n\u001b[1;32m    219\u001b[0m         \u001b[0;31m# don't warn on NotImplementedErrors\u001b[0m\u001b[0;34m\u001b[0m\u001b[0;34m\u001b[0m\u001b[0;34m\u001b[0m\u001b[0m\n",
            "\u001b[0;32m/usr/local/lib/python3.7/dist-packages/IPython/core/formatters.py\u001b[0m in \u001b[0;36m__call__\u001b[0;34m(self, obj)\u001b[0m\n\u001b[1;32m    336\u001b[0m             \u001b[0mmethod\u001b[0m \u001b[0;34m=\u001b[0m \u001b[0mget_real_method\u001b[0m\u001b[0;34m(\u001b[0m\u001b[0mobj\u001b[0m\u001b[0;34m,\u001b[0m \u001b[0mself\u001b[0m\u001b[0;34m.\u001b[0m\u001b[0mprint_method\u001b[0m\u001b[0;34m)\u001b[0m\u001b[0;34m\u001b[0m\u001b[0;34m\u001b[0m\u001b[0m\n\u001b[1;32m    337\u001b[0m             \u001b[0;32mif\u001b[0m \u001b[0mmethod\u001b[0m \u001b[0;32mis\u001b[0m \u001b[0;32mnot\u001b[0m \u001b[0;32mNone\u001b[0m\u001b[0;34m:\u001b[0m\u001b[0;34m\u001b[0m\u001b[0;34m\u001b[0m\u001b[0m\n\u001b[0;32m--> 338\u001b[0;31m                 \u001b[0;32mreturn\u001b[0m \u001b[0mmethod\u001b[0m\u001b[0;34m(\u001b[0m\u001b[0;34m)\u001b[0m\u001b[0;34m\u001b[0m\u001b[0;34m\u001b[0m\u001b[0m\n\u001b[0m\u001b[1;32m    339\u001b[0m             \u001b[0;32mreturn\u001b[0m \u001b[0;32mNone\u001b[0m\u001b[0;34m\u001b[0m\u001b[0;34m\u001b[0m\u001b[0m\n\u001b[1;32m    340\u001b[0m         \u001b[0;32melse\u001b[0m\u001b[0;34m:\u001b[0m\u001b[0;34m\u001b[0m\u001b[0;34m\u001b[0m\u001b[0m\n",
            "\u001b[0;32m/usr/local/lib/python3.7/dist-packages/matplotlib/animation.py\u001b[0m in \u001b[0;36m_repr_html_\u001b[0;34m(self)\u001b[0m\n\u001b[1;32m   1391\u001b[0m             \u001b[0;32mreturn\u001b[0m \u001b[0mself\u001b[0m\u001b[0;34m.\u001b[0m\u001b[0mto_html5_video\u001b[0m\u001b[0;34m(\u001b[0m\u001b[0;34m)\u001b[0m\u001b[0;34m\u001b[0m\u001b[0;34m\u001b[0m\u001b[0m\n\u001b[1;32m   1392\u001b[0m         \u001b[0;32melif\u001b[0m \u001b[0mfmt\u001b[0m \u001b[0;34m==\u001b[0m \u001b[0;34m'jshtml'\u001b[0m\u001b[0;34m:\u001b[0m\u001b[0;34m\u001b[0m\u001b[0;34m\u001b[0m\u001b[0m\n\u001b[0;32m-> 1393\u001b[0;31m             \u001b[0;32mreturn\u001b[0m \u001b[0mself\u001b[0m\u001b[0;34m.\u001b[0m\u001b[0mto_jshtml\u001b[0m\u001b[0;34m(\u001b[0m\u001b[0;34m)\u001b[0m\u001b[0;34m\u001b[0m\u001b[0;34m\u001b[0m\u001b[0m\n\u001b[0m\u001b[1;32m   1394\u001b[0m \u001b[0;34m\u001b[0m\u001b[0m\n\u001b[1;32m   1395\u001b[0m \u001b[0;34m\u001b[0m\u001b[0m\n",
            "\u001b[0;32m/usr/local/lib/python3.7/dist-packages/matplotlib/animation.py\u001b[0m in \u001b[0;36mto_jshtml\u001b[0;34m(self, fps, embed_frames, default_mode)\u001b[0m\n\u001b[1;32m   1380\u001b[0m                                     \u001b[0membed_frames\u001b[0m\u001b[0;34m=\u001b[0m\u001b[0membed_frames\u001b[0m\u001b[0;34m,\u001b[0m\u001b[0;34m\u001b[0m\u001b[0;34m\u001b[0m\u001b[0m\n\u001b[1;32m   1381\u001b[0m                                     default_mode=default_mode)\n\u001b[0;32m-> 1382\u001b[0;31m                 \u001b[0mself\u001b[0m\u001b[0;34m.\u001b[0m\u001b[0msave\u001b[0m\u001b[0;34m(\u001b[0m\u001b[0mstr\u001b[0m\u001b[0;34m(\u001b[0m\u001b[0mpath\u001b[0m\u001b[0;34m)\u001b[0m\u001b[0;34m,\u001b[0m \u001b[0mwriter\u001b[0m\u001b[0;34m=\u001b[0m\u001b[0mwriter\u001b[0m\u001b[0;34m)\u001b[0m\u001b[0;34m\u001b[0m\u001b[0;34m\u001b[0m\u001b[0m\n\u001b[0m\u001b[1;32m   1383\u001b[0m                 \u001b[0mself\u001b[0m\u001b[0;34m.\u001b[0m\u001b[0m_html_representation\u001b[0m \u001b[0;34m=\u001b[0m \u001b[0mpath\u001b[0m\u001b[0;34m.\u001b[0m\u001b[0mread_text\u001b[0m\u001b[0;34m(\u001b[0m\u001b[0;34m)\u001b[0m\u001b[0;34m\u001b[0m\u001b[0;34m\u001b[0m\u001b[0m\n\u001b[1;32m   1384\u001b[0m \u001b[0;34m\u001b[0m\u001b[0m\n",
            "\u001b[0;32m/usr/local/lib/python3.7/dist-packages/matplotlib/animation.py\u001b[0m in \u001b[0;36msave\u001b[0;34m(self, filename, writer, fps, dpi, codec, bitrate, extra_args, metadata, extra_anim, savefig_kwargs, progress_callback)\u001b[0m\n\u001b[1;32m   1150\u001b[0m                             \u001b[0mprogress_callback\u001b[0m\u001b[0;34m(\u001b[0m\u001b[0mframe_number\u001b[0m\u001b[0;34m,\u001b[0m \u001b[0mtotal_frames\u001b[0m\u001b[0;34m)\u001b[0m\u001b[0;34m\u001b[0m\u001b[0;34m\u001b[0m\u001b[0m\n\u001b[1;32m   1151\u001b[0m                             \u001b[0mframe_number\u001b[0m \u001b[0;34m+=\u001b[0m \u001b[0;36m1\u001b[0m\u001b[0;34m\u001b[0m\u001b[0;34m\u001b[0m\u001b[0m\n\u001b[0;32m-> 1152\u001b[0;31m                     \u001b[0mwriter\u001b[0m\u001b[0;34m.\u001b[0m\u001b[0mgrab_frame\u001b[0m\u001b[0;34m(\u001b[0m\u001b[0;34m**\u001b[0m\u001b[0msavefig_kwargs\u001b[0m\u001b[0;34m)\u001b[0m\u001b[0;34m\u001b[0m\u001b[0;34m\u001b[0m\u001b[0m\n\u001b[0m\u001b[1;32m   1153\u001b[0m \u001b[0;34m\u001b[0m\u001b[0m\n\u001b[1;32m   1154\u001b[0m         \u001b[0;31m# Reconnect signal for first draw if necessary\u001b[0m\u001b[0;34m\u001b[0m\u001b[0;34m\u001b[0m\u001b[0;34m\u001b[0m\u001b[0m\n",
            "\u001b[0;32m/usr/local/lib/python3.7/dist-packages/matplotlib/animation.py\u001b[0m in \u001b[0;36mgrab_frame\u001b[0;34m(self, **savefig_kwargs)\u001b[0m\n\u001b[1;32m    842\u001b[0m             \u001b[0mf\u001b[0m \u001b[0;34m=\u001b[0m \u001b[0mBytesIO\u001b[0m\u001b[0;34m(\u001b[0m\u001b[0;34m)\u001b[0m\u001b[0;34m\u001b[0m\u001b[0;34m\u001b[0m\u001b[0m\n\u001b[1;32m    843\u001b[0m             self.fig.savefig(f, format=self.frame_format,\n\u001b[0;32m--> 844\u001b[0;31m                              dpi=self.dpi, **savefig_kwargs)\n\u001b[0m\u001b[1;32m    845\u001b[0m             \u001b[0mimgdata64\u001b[0m \u001b[0;34m=\u001b[0m \u001b[0mbase64\u001b[0m\u001b[0;34m.\u001b[0m\u001b[0mencodebytes\u001b[0m\u001b[0;34m(\u001b[0m\u001b[0mf\u001b[0m\u001b[0;34m.\u001b[0m\u001b[0mgetvalue\u001b[0m\u001b[0;34m(\u001b[0m\u001b[0;34m)\u001b[0m\u001b[0;34m)\u001b[0m\u001b[0;34m.\u001b[0m\u001b[0mdecode\u001b[0m\u001b[0;34m(\u001b[0m\u001b[0;34m'ascii'\u001b[0m\u001b[0;34m)\u001b[0m\u001b[0;34m\u001b[0m\u001b[0;34m\u001b[0m\u001b[0m\n\u001b[1;32m    846\u001b[0m             \u001b[0mself\u001b[0m\u001b[0;34m.\u001b[0m\u001b[0m_total_bytes\u001b[0m \u001b[0;34m+=\u001b[0m \u001b[0mlen\u001b[0m\u001b[0;34m(\u001b[0m\u001b[0mimgdata64\u001b[0m\u001b[0;34m)\u001b[0m\u001b[0;34m\u001b[0m\u001b[0;34m\u001b[0m\u001b[0m\n",
            "\u001b[0;32m/usr/local/lib/python3.7/dist-packages/matplotlib/figure.py\u001b[0m in \u001b[0;36msavefig\u001b[0;34m(self, fname, transparent, **kwargs)\u001b[0m\n\u001b[1;32m   2201\u001b[0m             \u001b[0mself\u001b[0m\u001b[0;34m.\u001b[0m\u001b[0mpatch\u001b[0m\u001b[0;34m.\u001b[0m\u001b[0mset_visible\u001b[0m\u001b[0;34m(\u001b[0m\u001b[0mframeon\u001b[0m\u001b[0;34m)\u001b[0m\u001b[0;34m\u001b[0m\u001b[0;34m\u001b[0m\u001b[0m\n\u001b[1;32m   2202\u001b[0m \u001b[0;34m\u001b[0m\u001b[0m\n\u001b[0;32m-> 2203\u001b[0;31m         \u001b[0mself\u001b[0m\u001b[0;34m.\u001b[0m\u001b[0mcanvas\u001b[0m\u001b[0;34m.\u001b[0m\u001b[0mprint_figure\u001b[0m\u001b[0;34m(\u001b[0m\u001b[0mfname\u001b[0m\u001b[0;34m,\u001b[0m \u001b[0;34m**\u001b[0m\u001b[0mkwargs\u001b[0m\u001b[0;34m)\u001b[0m\u001b[0;34m\u001b[0m\u001b[0;34m\u001b[0m\u001b[0m\n\u001b[0m\u001b[1;32m   2204\u001b[0m \u001b[0;34m\u001b[0m\u001b[0m\n\u001b[1;32m   2205\u001b[0m         \u001b[0;32mif\u001b[0m \u001b[0mframeon\u001b[0m\u001b[0;34m:\u001b[0m\u001b[0;34m\u001b[0m\u001b[0;34m\u001b[0m\u001b[0m\n",
            "\u001b[0;32m/usr/local/lib/python3.7/dist-packages/matplotlib/backend_bases.py\u001b[0m in \u001b[0;36mprint_figure\u001b[0;34m(self, filename, dpi, facecolor, edgecolor, orientation, format, bbox_inches, **kwargs)\u001b[0m\n\u001b[1;32m   2124\u001b[0m                     \u001b[0morientation\u001b[0m\u001b[0;34m=\u001b[0m\u001b[0morientation\u001b[0m\u001b[0;34m,\u001b[0m\u001b[0;34m\u001b[0m\u001b[0;34m\u001b[0m\u001b[0m\n\u001b[1;32m   2125\u001b[0m                     \u001b[0mbbox_inches_restore\u001b[0m\u001b[0;34m=\u001b[0m\u001b[0m_bbox_inches_restore\u001b[0m\u001b[0;34m,\u001b[0m\u001b[0;34m\u001b[0m\u001b[0;34m\u001b[0m\u001b[0m\n\u001b[0;32m-> 2126\u001b[0;31m                     **kwargs)\n\u001b[0m\u001b[1;32m   2127\u001b[0m             \u001b[0;32mfinally\u001b[0m\u001b[0;34m:\u001b[0m\u001b[0;34m\u001b[0m\u001b[0;34m\u001b[0m\u001b[0m\n\u001b[1;32m   2128\u001b[0m                 \u001b[0;32mif\u001b[0m \u001b[0mbbox_inches\u001b[0m \u001b[0;32mand\u001b[0m \u001b[0mrestore_bbox\u001b[0m\u001b[0;34m:\u001b[0m\u001b[0;34m\u001b[0m\u001b[0;34m\u001b[0m\u001b[0m\n",
            "\u001b[0;32m/usr/local/lib/python3.7/dist-packages/matplotlib/backends/backend_agg.py\u001b[0m in \u001b[0;36mprint_png\u001b[0;34m(self, filename_or_obj, metadata, pil_kwargs, *args, **kwargs)\u001b[0m\n\u001b[1;32m    535\u001b[0m             \u001b[0;32mwith\u001b[0m \u001b[0mcbook\u001b[0m\u001b[0;34m.\u001b[0m\u001b[0mopen_file_cm\u001b[0m\u001b[0;34m(\u001b[0m\u001b[0mfilename_or_obj\u001b[0m\u001b[0;34m,\u001b[0m \u001b[0;34m\"wb\"\u001b[0m\u001b[0;34m)\u001b[0m \u001b[0;32mas\u001b[0m \u001b[0mfh\u001b[0m\u001b[0;34m:\u001b[0m\u001b[0;34m\u001b[0m\u001b[0;34m\u001b[0m\u001b[0m\n\u001b[1;32m    536\u001b[0m                 _png.write_png(renderer._renderer, fh, self.figure.dpi,\n\u001b[0;32m--> 537\u001b[0;31m                                metadata={**default_metadata, **metadata})\n\u001b[0m\u001b[1;32m    538\u001b[0m \u001b[0;34m\u001b[0m\u001b[0m\n\u001b[1;32m    539\u001b[0m     \u001b[0;32mdef\u001b[0m \u001b[0mprint_to_buffer\u001b[0m\u001b[0;34m(\u001b[0m\u001b[0mself\u001b[0m\u001b[0;34m)\u001b[0m\u001b[0;34m:\u001b[0m\u001b[0;34m\u001b[0m\u001b[0;34m\u001b[0m\u001b[0m\n",
            "\u001b[0;31mKeyboardInterrupt\u001b[0m: "
          ]
        }
      ]
    },
    {
      "cell_type": "markdown",
      "metadata": {
        "id": "D5C4DYT3KfST"
      },
      "source": [
        "## CUDA\n",
        "\n",
        "El paso siguiente será modificar el modelo anterior para que funcione con CUDA"
      ]
    },
    {
      "cell_type": "markdown",
      "metadata": {
        "id": "dDpK0FnZIASO"
      },
      "source": [
        "#Conclusiones"
      ]
    },
    {
      "cell_type": "markdown",
      "metadata": {
        "id": "vR0iyB8F4P4p"
      },
      "source": [
        "\n",
        "**Analysis**\n",
        "\n",
        "Una estrategia que pudiera mejorar la eficiencia del programa, y como consequencia disminuir el tiempo dedicado y la cantidad de movimientos realizados por los robots es incrementar el número de cajas máximas por estante. Esto disminuiría el número de lugares (estantes) dónde los robots pueden dejar las cajas. En efecto, el tiempo dedicado y la cantidad de movimientos sería menor. Las siguientes simulaciones comprueban esta hipotesis. Como se puede observar, la simulación 1, que utiliza un programa donde el número máximo de cajas por estante es 5, tiene un tiempo de ordenamiento de 0.3 segundos y 1027 pasos. Mientras la simulación 2, que utiliza un programa donde el número máximo de cajas por estante es 10, tiene un tiempo de ordenamiento de 0.25 segundos y 764 pasos.\n",
        "\n",
        "\n",
        "**Simulación 1**\n",
        "* Width: 10\n",
        "* Height: 10\n",
        "* Numero de cajas: 33\n",
        "* Tiempo máximo de ejecución (segundos): 20\n",
        "* Tiempo de ordenamiento: 0:00:00.319362\n",
        "* Número de movimientos realizados: 1027\n",
        "\n",
        "**Simulación 2**\n",
        "* Width: 10\n",
        "* Height: 10\n",
        "* Numero de cajas: 33\n",
        "* Tiempo máximo de ejecución (segundos): 20\n",
        "* Tiempo de ordenamiento: 0:00:00.248687\n",
        "* Número de movimientos realizados: 764"
      ]
    },
    {
      "cell_type": "code",
      "metadata": {
        "id": "nMh7DMMnKfST"
      },
      "source": [
        ""
      ],
      "execution_count": null,
      "outputs": []
    },
    {
      "cell_type": "code",
      "metadata": {
        "id": "sN6JfWhIIGkv"
      },
      "source": [
        ""
      ],
      "execution_count": null,
      "outputs": []
    }
  ]
}